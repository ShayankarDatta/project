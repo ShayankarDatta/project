import pandas as pd 
import numpy as np
import matplotlib.pyplot as plt
import seaborn as sns
import pickle
from sklearn.svm import SVC
from sklearn.tree import DecisionTreeClassifier
from sklearn.ensemble import RandomForestClassifier, AdaBoostClassifier, GradientBoostingClassifier
from sklearn.model_selection import train_test_split, GridSearchCV
from sklearn.metrics import accuracy_score, confusion_matrix, classification_report, make_scorer



df=pd.read_csv('heart.csv')
df

df.describe()

df['target']=df.target.map({0:0,1:1,2:1,3:1,4:1})
df['sex']=df.sex.map({0:'female',1:'male'})
df['thal']=df.thal.fillna(df.thal.mean())
df['ca']=df.ca.fillna(df.ca.mean())


fig=plt.figure(figsize=(10,12))
ax=fig.gca()
df.hist(ax=ax)

df1 = pd.get_dummies(df, columns = ['sex', 'cp', 'fbs', 'restecg', 'exang', 'slope', 'ca', 'thal'])
print(df1.head(10))



X = df1.iloc[:, :-1].values
y = df1.iloc[:, -1].values
print(X)
print(y)


from sklearn.model_selection import train_test_split  
X_train, X_test, y_train, y_test = train_test_split(X, y, test_size=0.20)



from sklearn.tree import DecisionTreeClassifier  
classifier = DecisionTreeClassifier()  
classifier.fit(X_train, y_train)


from sklearn.metrics import confusion_matrix 
y_pred_test = classifier.predict(X_test)
cm_test = confusion_matrix(y_pred_test, y_test)
y_pred_train = classifier.predict(X_train)
cm_train = confusion_matrix(y_pred_train, y_train)  


print(cm_train)

print(cm_test)



Accuracy_train=((cm_train[0][0] + cm_train[1][1])/len(y_train))
Accuracy_test=((cm_test[0][0] + cm_test[1][1])/len(y_test))


print('Accuracy for training set for Decision Tree is {}'.format((Accuracy_train)*100))
print('Accuracy for test set for Decision Tree is {}'.format((Accuracy_test)*100))


gb = GradientBoostingClassifier(random_state = 1)



with open('model.pkl', 'wb') as file:
    pickle.dump(gb, file)